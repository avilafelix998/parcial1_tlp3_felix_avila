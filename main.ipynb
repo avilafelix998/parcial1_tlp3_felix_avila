{
 "cells": [
  {
   "cell_type": "markdown",
   "id": "9fee5ee9",
   "metadata": {},
   "source": [
    "# Examen Parcial n°1 2da Parte - TLP3 - Python para Ciencia de Datos.\n"
   ]
  },
  {
   "cell_type": "markdown",
   "id": "999099d0",
   "metadata": {},
   "source": [
    "**A partir del datasets brindado, realizar los siguientes procedimientos:**\n",
    "\n",
    "* Importar datasets con Pandas.\n",
    "* Explorar los datos con los metodos correspondientes. \n",
    "* Limpieza de los datos (Normalización de datos).\n",
    "* Obtener estadisticas.\n",
    "* Mostrar los datos procesados con graficos utilizando la libreria Matplotlib.\n",
    "* Exportar el contenido a un archivo sqlite utilizando PANDAS.\n",
    "\n",
    "\n",
    "**Importante: Se debe documentar cada procedimiento realizado, siguiendo la siguiente estructura:**\n",
    "\n",
    "1. Celda de Markdown (Documentación)\n",
    "2. Código (Sin comentarios, se debe documentar lo sufiente solo en la celda de markdown).\n",
    "\n",
    "\n",
    "### Criterios de Evaluación:\n",
    "\n",
    "1. No esta permitido el uso de IAs durante el examen. (Desactivar Copilot o cualquier herramienta de IA para autocompletar codigo.)\n",
    "\n",
    "2. Se deben utilizar nombres de variables descriptivos y claros (Utilizar la nomeclatura correspondiente para los nombres de variables).\n",
    "\n",
    "3. Comentarios claros y concisos que expliquen el propósito de cada sección del código en una celda de markdown antes del código.\n",
    "\n",
    "4. Utilizar mensajes de commit descriptivos. (Puedes utilizar la extension CONVENTIONAL COMMIT de VS-CODE).\n",
    "\n",
    "5. Entrega en tiempo y forma (Parciales entregados fuera de hora o con commits pasados el horario de entrega quedará invalidado.)\n",
    "\n",
    "6. Todo el código desarrollado debe ser subido a un repositorio en GitHub (el nombre del repositorio de seguir la siguiente estructura: \n",
    "**parcial1_tlp3_nombre_apellido**).\n",
    "\n",
    "7. Para resolver las actividades se debe insertar casillas de codigo entre cada actividad del cuaderno de Jupyter.\n",
    "\n",
    "8. Deben trabajar con el datasets adjunto.\n",
    "\n",
    "9. Una vez finalizado el examen, los resultados deben quedar guardados debajo de cada celda (NO EJECUTAR LA OPCIÓN \"borrar todas las salidas\").\n",
    "\n",
    "**Importante:** Una vez finalizado el examen, marcar como completado en el classroom."
   ]
  },
  {
   "cell_type": "markdown",
   "id": "dd91f969",
   "metadata": {},
   "source": [
    "## Actividades: \n",
    "### 1. Importación del Dataset con Pandas\n",
    "\n",
    "En esta sección, se debe utilizar la librería Pandas para cargar el archivo CSV que contiene los datos de VOTACIONES en un Datasets.\n",
    "\n",
    "### 2. Exploración Inicial de los Datos\n",
    "\n",
    "A continuación, se deben emplear métodos de Pandas para obtener una visión general del dataset. \n",
    "- 2.1: Visualizar las primeras filas y ultimas.\n",
    "- 2.2: Obtener informacion del df con su metodo correspondiente.\n",
    "- 2.3: Hacer un conteo de valores nulos.\n",
    "\n",
    "### 3. Limpieza y Normalización de los Datos\n",
    "\n",
    "- 3.1. Esta etapa crucial deben aplicar la corrección de diversos errores presentes en el dataset. Se abordarán los valores faltantes (Deben aplicar los metodos que ustedes crean convenientes **(Solo 1)**, por ejemplo: Eliminación de filas, cubrir valores con media, mediana, etc.)\n",
    "- 3.2: La columna Fecha deberan pasarla al tipo datetime con su metodo correspondiente.\n",
    "- 3.3: Corregir las mayusculas en el caso de Nombre y Apellido (Si es que corresponde.)\n",
    "- 3.4: En el caso de los votos, aplicar mayusculas a cada fila.\n",
    "- 3.5 EL campo DNI debe ser del tipo INT.\n",
    "\n",
    "\n",
    "### 4. Obtención de Estadísticas Descriptivas\n",
    "\n",
    "Después de la limpieza, deben hacer lo siguiente: \n",
    "\n",
    "- 4.1: calcular nuevamente las estadísticas descriptivas para observar el impacto del proceso de limpieza en los datos numéricos.\n",
    "- 4.2: Calcular estadísticas específicas por grupo (Agrupar dos columnas).\n",
    "\n",
    "### 5. Visualización de los Datos con Matplotlib\n",
    "\n",
    "En esta sección, deben utilizar la librería Matplotlib para crear **UNA** visualización que permitan comprender mejor los datos de ventas.El grafico es a elección, puede crear **UNO** de los siguientes: histogramas, diagramas de dispersión, gráficos de barras y graficos de torta.\n",
    "\n",
    "### 6. Exportación a Archivo SQLite\n",
    "\n",
    "Finalmente, deben utilizar la funcionalidad de Pandas para guardar el DataFrame procesado en una base de datos SQLite. Deben hacer una conexión y hacer una consulta para ver si los datos fueron cargados correctamente.\n",
    "\n"
   ]
  },
  {
   "cell_type": "markdown",
   "id": "1979fefd",
   "metadata": {},
   "source": [
    "## Iportaciones\n",
    " Pandas para manipular el DataFrame y Matplotlib para la visualización de gráficos "
   ]
  },
  {
   "cell_type": "code",
   "execution_count": 51,
   "id": "d3a63349",
   "metadata": {},
   "outputs": [],
   "source": [
    "import pandas as pd\n",
    "import matplotlib.pyplot as plt"
   ]
  },
  {
   "cell_type": "markdown",
   "id": "8334de8b",
   "metadata": {},
   "source": [
    "### Importamos el Dataset con Pandas "
   ]
  },
  {
   "cell_type": "code",
   "execution_count": 52,
   "id": "5575814d",
   "metadata": {},
   "outputs": [],
   "source": [
    "df = pd.read_csv(\"votaciones.csv\")"
   ]
  },
  {
   "cell_type": "markdown",
   "id": "389dfb08",
   "metadata": {},
   "source": [
    "### 2. Exploración Inicial de los Datos\n"
   ]
  },
  {
   "cell_type": "markdown",
   "id": "dab09036",
   "metadata": {},
   "source": [
    "Visualización de las primeras filas "
   ]
  },
  {
   "cell_type": "code",
   "execution_count": 53,
   "id": "e9d9fbf9",
   "metadata": {},
   "outputs": [
    {
     "data": {
      "text/html": [
       "<div>\n",
       "<style scoped>\n",
       "    .dataframe tbody tr th:only-of-type {\n",
       "        vertical-align: middle;\n",
       "    }\n",
       "\n",
       "    .dataframe tbody tr th {\n",
       "        vertical-align: top;\n",
       "    }\n",
       "\n",
       "    .dataframe thead th {\n",
       "        text-align: right;\n",
       "    }\n",
       "</style>\n",
       "<table border=\"1\" class=\"dataframe\">\n",
       "  <thead>\n",
       "    <tr style=\"text-align: right;\">\n",
       "      <th></th>\n",
       "      <th>nombre</th>\n",
       "      <th>apellido</th>\n",
       "      <th>dni</th>\n",
       "      <th>provincia</th>\n",
       "      <th>voto</th>\n",
       "      <th>fecha_votacion</th>\n",
       "    </tr>\n",
       "  </thead>\n",
       "  <tbody>\n",
       "    <tr>\n",
       "      <th>0</th>\n",
       "      <td>pánfilo</td>\n",
       "      <td>pombo</td>\n",
       "      <td>34787190.0</td>\n",
       "      <td>buenos aires</td>\n",
       "      <td>nulo</td>\n",
       "      <td>2024-11-22</td>\n",
       "    </tr>\n",
       "    <tr>\n",
       "      <th>1</th>\n",
       "      <td>albina</td>\n",
       "      <td>heredia</td>\n",
       "      <td>48336819.0</td>\n",
       "      <td>santa fe</td>\n",
       "      <td>nulo</td>\n",
       "      <td>2024-04-24</td>\n",
       "    </tr>\n",
       "    <tr>\n",
       "      <th>2</th>\n",
       "      <td>NaN</td>\n",
       "      <td>solano</td>\n",
       "      <td>49179364.0</td>\n",
       "      <td>neuquen</td>\n",
       "      <td>nulo</td>\n",
       "      <td>2024-05-20</td>\n",
       "    </tr>\n",
       "    <tr>\n",
       "      <th>3</th>\n",
       "      <td>salomé</td>\n",
       "      <td>barrio</td>\n",
       "      <td>43725639.0</td>\n",
       "      <td>buenos aires</td>\n",
       "      <td>NaN</td>\n",
       "      <td>05-06-2024</td>\n",
       "    </tr>\n",
       "    <tr>\n",
       "      <th>4</th>\n",
       "      <td>matías</td>\n",
       "      <td>esteban</td>\n",
       "      <td>30599927.0</td>\n",
       "      <td>chaco</td>\n",
       "      <td>no</td>\n",
       "      <td>10-07-2023</td>\n",
       "    </tr>\n",
       "  </tbody>\n",
       "</table>\n",
       "</div>"
      ],
      "text/plain": [
       "    nombre apellido         dni     provincia  voto fecha_votacion\n",
       "0  pánfilo    pombo  34787190.0  buenos aires  nulo     2024-11-22\n",
       "1   albina  heredia  48336819.0      santa fe  nulo     2024-04-24\n",
       "2      NaN   solano  49179364.0       neuquen  nulo     2024-05-20\n",
       "3   salomé   barrio  43725639.0  buenos aires   NaN     05-06-2024\n",
       "4   matías  esteban  30599927.0         chaco    no     10-07-2023"
      ]
     },
     "execution_count": 53,
     "metadata": {},
     "output_type": "execute_result"
    }
   ],
   "source": [
    "df.head()"
   ]
  },
  {
   "cell_type": "markdown",
   "id": "2bce1412",
   "metadata": {},
   "source": [
    "Visualización de las últimas filas "
   ]
  },
  {
   "cell_type": "code",
   "execution_count": 54,
   "id": "65dcf63d",
   "metadata": {},
   "outputs": [
    {
     "data": {
      "text/html": [
       "<div>\n",
       "<style scoped>\n",
       "    .dataframe tbody tr th:only-of-type {\n",
       "        vertical-align: middle;\n",
       "    }\n",
       "\n",
       "    .dataframe tbody tr th {\n",
       "        vertical-align: top;\n",
       "    }\n",
       "\n",
       "    .dataframe thead th {\n",
       "        text-align: right;\n",
       "    }\n",
       "</style>\n",
       "<table border=\"1\" class=\"dataframe\">\n",
       "  <thead>\n",
       "    <tr style=\"text-align: right;\">\n",
       "      <th></th>\n",
       "      <th>nombre</th>\n",
       "      <th>apellido</th>\n",
       "      <th>dni</th>\n",
       "      <th>provincia</th>\n",
       "      <th>voto</th>\n",
       "      <th>fecha_votacion</th>\n",
       "    </tr>\n",
       "  </thead>\n",
       "  <tbody>\n",
       "    <tr>\n",
       "      <th>96</th>\n",
       "      <td>carla</td>\n",
       "      <td>vidal</td>\n",
       "      <td>15161718.0</td>\n",
       "      <td>misiones</td>\n",
       "      <td>nulo</td>\n",
       "      <td>2023-09-12</td>\n",
       "    </tr>\n",
       "    <tr>\n",
       "      <th>97</th>\n",
       "      <td>federico</td>\n",
       "      <td>barrios</td>\n",
       "      <td>16171819.0</td>\n",
       "      <td>neuquen</td>\n",
       "      <td>no</td>\n",
       "      <td>11-09-2023</td>\n",
       "    </tr>\n",
       "    <tr>\n",
       "      <th>98</th>\n",
       "      <td>belen</td>\n",
       "      <td>vera</td>\n",
       "      <td>17181920.0</td>\n",
       "      <td>tucuman</td>\n",
       "      <td>sí</td>\n",
       "      <td>2023-09-10</td>\n",
       "    </tr>\n",
       "    <tr>\n",
       "      <th>99</th>\n",
       "      <td>gustavo</td>\n",
       "      <td>gauna</td>\n",
       "      <td>18192021.0</td>\n",
       "      <td>santa fe</td>\n",
       "      <td>nulo</td>\n",
       "      <td>09-09-2023</td>\n",
       "    </tr>\n",
       "    <tr>\n",
       "      <th>100</th>\n",
       "      <td>rocio</td>\n",
       "      <td>avila</td>\n",
       "      <td>19202122.0</td>\n",
       "      <td>formosa</td>\n",
       "      <td>no</td>\n",
       "      <td>08-09-2023</td>\n",
       "    </tr>\n",
       "  </tbody>\n",
       "</table>\n",
       "</div>"
      ],
      "text/plain": [
       "       nombre apellido         dni provincia  voto fecha_votacion\n",
       "96      carla    vidal  15161718.0  misiones  nulo     2023-09-12\n",
       "97   federico  barrios  16171819.0   neuquen    no     11-09-2023\n",
       "98      belen     vera  17181920.0   tucuman    sí     2023-09-10\n",
       "99    gustavo    gauna  18192021.0  santa fe  nulo     09-09-2023\n",
       "100     rocio    avila  19202122.0   formosa    no     08-09-2023"
      ]
     },
     "execution_count": 54,
     "metadata": {},
     "output_type": "execute_result"
    }
   ],
   "source": [
    "df.tail()"
   ]
  },
  {
   "cell_type": "markdown",
   "id": "18a498f3",
   "metadata": {},
   "source": [
    "Obtener información de Dataframe "
   ]
  },
  {
   "cell_type": "code",
   "execution_count": 55,
   "id": "5c7f6ab6",
   "metadata": {},
   "outputs": [
    {
     "name": "stdout",
     "output_type": "stream",
     "text": [
      "<class 'pandas.core.frame.DataFrame'>\n",
      "RangeIndex: 101 entries, 0 to 100\n",
      "Data columns (total 6 columns):\n",
      " #   Column          Non-Null Count  Dtype  \n",
      "---  ------          --------------  -----  \n",
      " 0   nombre          91 non-null     object \n",
      " 1   apellido        94 non-null     object \n",
      " 2   dni             90 non-null     float64\n",
      " 3   provincia       95 non-null     object \n",
      " 4   voto            96 non-null     object \n",
      " 5   fecha_votacion  95 non-null     object \n",
      "dtypes: float64(1), object(5)\n",
      "memory usage: 4.9+ KB\n"
     ]
    }
   ],
   "source": [
    "df.info()"
   ]
  },
  {
   "cell_type": "markdown",
   "id": "7336ea46",
   "metadata": {},
   "source": [
    "Conteo de valores nulos en caso de que haya"
   ]
  },
  {
   "cell_type": "code",
   "execution_count": 56,
   "id": "e6134205",
   "metadata": {},
   "outputs": [
    {
     "data": {
      "text/plain": [
       "nombre            10\n",
       "apellido           7\n",
       "dni               11\n",
       "provincia          6\n",
       "voto               5\n",
       "fecha_votacion     6\n",
       "dtype: int64"
      ]
     },
     "execution_count": 56,
     "metadata": {},
     "output_type": "execute_result"
    }
   ],
   "source": [
    "df.isnull().sum()"
   ]
  },
  {
   "cell_type": "markdown",
   "id": "ed674991",
   "metadata": {},
   "source": [
    "### 3. Limpieza y Normalización de los Datos\n"
   ]
  },
  {
   "cell_type": "markdown",
   "id": "9eea602f",
   "metadata": {},
   "source": [
    "Rellenar valores faltantes en las columnas nombre y apellido con la palabra desconocido"
   ]
  },
  {
   "cell_type": "code",
   "execution_count": 57,
   "id": "74c60f62",
   "metadata": {},
   "outputs": [
    {
     "name": "stderr",
     "output_type": "stream",
     "text": [
      "C:\\Users\\IPF-2025\\AppData\\Local\\Temp\\ipykernel_15372\\2309332916.py:1: FutureWarning: A value is trying to be set on a copy of a DataFrame or Series through chained assignment using an inplace method.\n",
      "The behavior will change in pandas 3.0. This inplace method will never work because the intermediate object on which we are setting values always behaves as a copy.\n",
      "\n",
      "For example, when doing 'df[col].method(value, inplace=True)', try using 'df.method({col: value}, inplace=True)' or df[col] = df[col].method(value) instead, to perform the operation inplace on the original object.\n",
      "\n",
      "\n",
      "  df[\"nombre\"].fillna(\"desconocido\",inplace=True)\n",
      "C:\\Users\\IPF-2025\\AppData\\Local\\Temp\\ipykernel_15372\\2309332916.py:2: FutureWarning: A value is trying to be set on a copy of a DataFrame or Series through chained assignment using an inplace method.\n",
      "The behavior will change in pandas 3.0. This inplace method will never work because the intermediate object on which we are setting values always behaves as a copy.\n",
      "\n",
      "For example, when doing 'df[col].method(value, inplace=True)', try using 'df.method({col: value}, inplace=True)' or df[col] = df[col].method(value) instead, to perform the operation inplace on the original object.\n",
      "\n",
      "\n",
      "  df[\"apellido\"].fillna(\"desconocido\",inplace=True)\n"
     ]
    },
    {
     "data": {
      "text/html": [
       "<div>\n",
       "<style scoped>\n",
       "    .dataframe tbody tr th:only-of-type {\n",
       "        vertical-align: middle;\n",
       "    }\n",
       "\n",
       "    .dataframe tbody tr th {\n",
       "        vertical-align: top;\n",
       "    }\n",
       "\n",
       "    .dataframe thead th {\n",
       "        text-align: right;\n",
       "    }\n",
       "</style>\n",
       "<table border=\"1\" class=\"dataframe\">\n",
       "  <thead>\n",
       "    <tr style=\"text-align: right;\">\n",
       "      <th></th>\n",
       "      <th>nombre</th>\n",
       "      <th>apellido</th>\n",
       "      <th>dni</th>\n",
       "      <th>provincia</th>\n",
       "      <th>voto</th>\n",
       "      <th>fecha_votacion</th>\n",
       "    </tr>\n",
       "  </thead>\n",
       "  <tbody>\n",
       "    <tr>\n",
       "      <th>0</th>\n",
       "      <td>pánfilo</td>\n",
       "      <td>pombo</td>\n",
       "      <td>34787190.0</td>\n",
       "      <td>buenos aires</td>\n",
       "      <td>nulo</td>\n",
       "      <td>2024-11-22</td>\n",
       "    </tr>\n",
       "    <tr>\n",
       "      <th>1</th>\n",
       "      <td>albina</td>\n",
       "      <td>heredia</td>\n",
       "      <td>48336819.0</td>\n",
       "      <td>santa fe</td>\n",
       "      <td>nulo</td>\n",
       "      <td>2024-04-24</td>\n",
       "    </tr>\n",
       "    <tr>\n",
       "      <th>2</th>\n",
       "      <td>desconocido</td>\n",
       "      <td>solano</td>\n",
       "      <td>49179364.0</td>\n",
       "      <td>neuquen</td>\n",
       "      <td>nulo</td>\n",
       "      <td>2024-05-20</td>\n",
       "    </tr>\n",
       "    <tr>\n",
       "      <th>3</th>\n",
       "      <td>salomé</td>\n",
       "      <td>barrio</td>\n",
       "      <td>43725639.0</td>\n",
       "      <td>buenos aires</td>\n",
       "      <td>NaN</td>\n",
       "      <td>05-06-2024</td>\n",
       "    </tr>\n",
       "    <tr>\n",
       "      <th>4</th>\n",
       "      <td>matías</td>\n",
       "      <td>esteban</td>\n",
       "      <td>30599927.0</td>\n",
       "      <td>chaco</td>\n",
       "      <td>no</td>\n",
       "      <td>10-07-2023</td>\n",
       "    </tr>\n",
       "  </tbody>\n",
       "</table>\n",
       "</div>"
      ],
      "text/plain": [
       "        nombre apellido         dni     provincia  voto fecha_votacion\n",
       "0      pánfilo    pombo  34787190.0  buenos aires  nulo     2024-11-22\n",
       "1       albina  heredia  48336819.0      santa fe  nulo     2024-04-24\n",
       "2  desconocido   solano  49179364.0       neuquen  nulo     2024-05-20\n",
       "3       salomé   barrio  43725639.0  buenos aires   NaN     05-06-2024\n",
       "4       matías  esteban  30599927.0         chaco    no     10-07-2023"
      ]
     },
     "execution_count": 57,
     "metadata": {},
     "output_type": "execute_result"
    }
   ],
   "source": [
    "df[\"nombre\"].fillna(\"desconocido\",inplace=True)\n",
    "df[\"apellido\"].fillna(\"desconocido\",inplace=True)\n",
    "df.head()"
   ]
  },
  {
   "cell_type": "markdown",
   "id": "946bd42a",
   "metadata": {},
   "source": [
    "Rellenar los valores faltantes en la columna dni con mediana de los valores ya existentes  "
   ]
  },
  {
   "cell_type": "code",
   "execution_count": 58,
   "id": "5080a5a4",
   "metadata": {},
   "outputs": [
    {
     "name": "stderr",
     "output_type": "stream",
     "text": [
      "C:\\Users\\IPF-2025\\AppData\\Local\\Temp\\ipykernel_15372\\1391375184.py:1: FutureWarning: A value is trying to be set on a copy of a DataFrame or Series through chained assignment using an inplace method.\n",
      "The behavior will change in pandas 3.0. This inplace method will never work because the intermediate object on which we are setting values always behaves as a copy.\n",
      "\n",
      "For example, when doing 'df[col].method(value, inplace=True)', try using 'df.method({col: value}, inplace=True)' or df[col] = df[col].method(value) instead, to perform the operation inplace on the original object.\n",
      "\n",
      "\n",
      "  df[\"dni\"].fillna(df[\"dni\"].median(),inplace=True)\n"
     ]
    },
    {
     "data": {
      "text/html": [
       "<div>\n",
       "<style scoped>\n",
       "    .dataframe tbody tr th:only-of-type {\n",
       "        vertical-align: middle;\n",
       "    }\n",
       "\n",
       "    .dataframe tbody tr th {\n",
       "        vertical-align: top;\n",
       "    }\n",
       "\n",
       "    .dataframe thead th {\n",
       "        text-align: right;\n",
       "    }\n",
       "</style>\n",
       "<table border=\"1\" class=\"dataframe\">\n",
       "  <thead>\n",
       "    <tr style=\"text-align: right;\">\n",
       "      <th></th>\n",
       "      <th>nombre</th>\n",
       "      <th>apellido</th>\n",
       "      <th>dni</th>\n",
       "      <th>provincia</th>\n",
       "      <th>voto</th>\n",
       "      <th>fecha_votacion</th>\n",
       "    </tr>\n",
       "  </thead>\n",
       "  <tbody>\n",
       "    <tr>\n",
       "      <th>0</th>\n",
       "      <td>pánfilo</td>\n",
       "      <td>pombo</td>\n",
       "      <td>34787190.0</td>\n",
       "      <td>buenos aires</td>\n",
       "      <td>nulo</td>\n",
       "      <td>2024-11-22</td>\n",
       "    </tr>\n",
       "    <tr>\n",
       "      <th>1</th>\n",
       "      <td>albina</td>\n",
       "      <td>heredia</td>\n",
       "      <td>48336819.0</td>\n",
       "      <td>santa fe</td>\n",
       "      <td>nulo</td>\n",
       "      <td>2024-04-24</td>\n",
       "    </tr>\n",
       "    <tr>\n",
       "      <th>2</th>\n",
       "      <td>desconocido</td>\n",
       "      <td>solano</td>\n",
       "      <td>49179364.0</td>\n",
       "      <td>neuquen</td>\n",
       "      <td>nulo</td>\n",
       "      <td>2024-05-20</td>\n",
       "    </tr>\n",
       "    <tr>\n",
       "      <th>3</th>\n",
       "      <td>salomé</td>\n",
       "      <td>barrio</td>\n",
       "      <td>43725639.0</td>\n",
       "      <td>buenos aires</td>\n",
       "      <td>NaN</td>\n",
       "      <td>05-06-2024</td>\n",
       "    </tr>\n",
       "    <tr>\n",
       "      <th>4</th>\n",
       "      <td>matías</td>\n",
       "      <td>esteban</td>\n",
       "      <td>30599927.0</td>\n",
       "      <td>chaco</td>\n",
       "      <td>no</td>\n",
       "      <td>10-07-2023</td>\n",
       "    </tr>\n",
       "  </tbody>\n",
       "</table>\n",
       "</div>"
      ],
      "text/plain": [
       "        nombre apellido         dni     provincia  voto fecha_votacion\n",
       "0      pánfilo    pombo  34787190.0  buenos aires  nulo     2024-11-22\n",
       "1       albina  heredia  48336819.0      santa fe  nulo     2024-04-24\n",
       "2  desconocido   solano  49179364.0       neuquen  nulo     2024-05-20\n",
       "3       salomé   barrio  43725639.0  buenos aires   NaN     05-06-2024\n",
       "4       matías  esteban  30599927.0         chaco    no     10-07-2023"
      ]
     },
     "execution_count": 58,
     "metadata": {},
     "output_type": "execute_result"
    }
   ],
   "source": [
    "df[\"dni\"].fillna(df[\"dni\"].median(),inplace=True)\n",
    "df.head(5)"
   ]
  },
  {
   "cell_type": "markdown",
   "id": "069d62d6",
   "metadata": {},
   "source": [
    "convertir la columna fecha_votación a datetime"
   ]
  },
  {
   "cell_type": "code",
   "execution_count": 59,
   "id": "71fe3c2a",
   "metadata": {},
   "outputs": [
    {
     "data": {
      "text/html": [
       "<div>\n",
       "<style scoped>\n",
       "    .dataframe tbody tr th:only-of-type {\n",
       "        vertical-align: middle;\n",
       "    }\n",
       "\n",
       "    .dataframe tbody tr th {\n",
       "        vertical-align: top;\n",
       "    }\n",
       "\n",
       "    .dataframe thead th {\n",
       "        text-align: right;\n",
       "    }\n",
       "</style>\n",
       "<table border=\"1\" class=\"dataframe\">\n",
       "  <thead>\n",
       "    <tr style=\"text-align: right;\">\n",
       "      <th></th>\n",
       "      <th>nombre</th>\n",
       "      <th>apellido</th>\n",
       "      <th>dni</th>\n",
       "      <th>provincia</th>\n",
       "      <th>voto</th>\n",
       "      <th>fecha_votacion</th>\n",
       "    </tr>\n",
       "  </thead>\n",
       "  <tbody>\n",
       "    <tr>\n",
       "      <th>0</th>\n",
       "      <td>pánfilo</td>\n",
       "      <td>pombo</td>\n",
       "      <td>34787190.0</td>\n",
       "      <td>buenos aires</td>\n",
       "      <td>nulo</td>\n",
       "      <td>2024-11-22</td>\n",
       "    </tr>\n",
       "    <tr>\n",
       "      <th>1</th>\n",
       "      <td>albina</td>\n",
       "      <td>heredia</td>\n",
       "      <td>48336819.0</td>\n",
       "      <td>santa fe</td>\n",
       "      <td>nulo</td>\n",
       "      <td>2024-04-24</td>\n",
       "    </tr>\n",
       "    <tr>\n",
       "      <th>2</th>\n",
       "      <td>desconocido</td>\n",
       "      <td>solano</td>\n",
       "      <td>49179364.0</td>\n",
       "      <td>neuquen</td>\n",
       "      <td>nulo</td>\n",
       "      <td>2024-05-20</td>\n",
       "    </tr>\n",
       "    <tr>\n",
       "      <th>3</th>\n",
       "      <td>salomé</td>\n",
       "      <td>barrio</td>\n",
       "      <td>43725639.0</td>\n",
       "      <td>buenos aires</td>\n",
       "      <td>NaN</td>\n",
       "      <td>NaT</td>\n",
       "    </tr>\n",
       "    <tr>\n",
       "      <th>4</th>\n",
       "      <td>matías</td>\n",
       "      <td>esteban</td>\n",
       "      <td>30599927.0</td>\n",
       "      <td>chaco</td>\n",
       "      <td>no</td>\n",
       "      <td>NaT</td>\n",
       "    </tr>\n",
       "  </tbody>\n",
       "</table>\n",
       "</div>"
      ],
      "text/plain": [
       "        nombre apellido         dni     provincia  voto fecha_votacion\n",
       "0      pánfilo    pombo  34787190.0  buenos aires  nulo     2024-11-22\n",
       "1       albina  heredia  48336819.0      santa fe  nulo     2024-04-24\n",
       "2  desconocido   solano  49179364.0       neuquen  nulo     2024-05-20\n",
       "3       salomé   barrio  43725639.0  buenos aires   NaN            NaT\n",
       "4       matías  esteban  30599927.0         chaco    no            NaT"
      ]
     },
     "execution_count": 59,
     "metadata": {},
     "output_type": "execute_result"
    }
   ],
   "source": [
    "df[\"fecha_votacion\"] = pd.to_datetime(df[\"fecha_votacion\"], errors=\"coerce\")\n",
    "df.head()"
   ]
  },
  {
   "cell_type": "markdown",
   "id": "0c715f7e",
   "metadata": {},
   "source": [
    "Eliminar filas con valores faltantes en fecha_votación , voto y provincia"
   ]
  },
  {
   "cell_type": "code",
   "execution_count": 60,
   "id": "5d009b66",
   "metadata": {},
   "outputs": [
    {
     "data": {
      "text/html": [
       "<div>\n",
       "<style scoped>\n",
       "    .dataframe tbody tr th:only-of-type {\n",
       "        vertical-align: middle;\n",
       "    }\n",
       "\n",
       "    .dataframe tbody tr th {\n",
       "        vertical-align: top;\n",
       "    }\n",
       "\n",
       "    .dataframe thead th {\n",
       "        text-align: right;\n",
       "    }\n",
       "</style>\n",
       "<table border=\"1\" class=\"dataframe\">\n",
       "  <thead>\n",
       "    <tr style=\"text-align: right;\">\n",
       "      <th></th>\n",
       "      <th>nombre</th>\n",
       "      <th>apellido</th>\n",
       "      <th>dni</th>\n",
       "      <th>provincia</th>\n",
       "      <th>voto</th>\n",
       "      <th>fecha_votacion</th>\n",
       "    </tr>\n",
       "  </thead>\n",
       "  <tbody>\n",
       "    <tr>\n",
       "      <th>0</th>\n",
       "      <td>pánfilo</td>\n",
       "      <td>pombo</td>\n",
       "      <td>34787190.0</td>\n",
       "      <td>buenos aires</td>\n",
       "      <td>nulo</td>\n",
       "      <td>2024-11-22</td>\n",
       "    </tr>\n",
       "    <tr>\n",
       "      <th>1</th>\n",
       "      <td>albina</td>\n",
       "      <td>heredia</td>\n",
       "      <td>48336819.0</td>\n",
       "      <td>santa fe</td>\n",
       "      <td>nulo</td>\n",
       "      <td>2024-04-24</td>\n",
       "    </tr>\n",
       "    <tr>\n",
       "      <th>2</th>\n",
       "      <td>desconocido</td>\n",
       "      <td>solano</td>\n",
       "      <td>49179364.0</td>\n",
       "      <td>neuquen</td>\n",
       "      <td>nulo</td>\n",
       "      <td>2024-05-20</td>\n",
       "    </tr>\n",
       "    <tr>\n",
       "      <th>7</th>\n",
       "      <td>brígida</td>\n",
       "      <td>angulo</td>\n",
       "      <td>22169546.0</td>\n",
       "      <td>chaco</td>\n",
       "      <td>no</td>\n",
       "      <td>2024-05-02</td>\n",
       "    </tr>\n",
       "    <tr>\n",
       "      <th>10</th>\n",
       "      <td>verónica</td>\n",
       "      <td>posada</td>\n",
       "      <td>35293135.0</td>\n",
       "      <td>santa fe</td>\n",
       "      <td>no</td>\n",
       "      <td>2024-09-15</td>\n",
       "    </tr>\n",
       "  </tbody>\n",
       "</table>\n",
       "</div>"
      ],
      "text/plain": [
       "         nombre apellido         dni     provincia  voto fecha_votacion\n",
       "0       pánfilo    pombo  34787190.0  buenos aires  nulo     2024-11-22\n",
       "1        albina  heredia  48336819.0      santa fe  nulo     2024-04-24\n",
       "2   desconocido   solano  49179364.0       neuquen  nulo     2024-05-20\n",
       "7       brígida   angulo  22169546.0         chaco    no     2024-05-02\n",
       "10     verónica   posada  35293135.0      santa fe    no     2024-09-15"
      ]
     },
     "execution_count": 60,
     "metadata": {},
     "output_type": "execute_result"
    }
   ],
   "source": [
    "df.dropna(subset=[\"fecha_votacion\",\"voto\",\"provincia\"],inplace=True)\n",
    "df.head()"
   ]
  },
  {
   "cell_type": "markdown",
   "id": "67bed001",
   "metadata": {},
   "source": [
    "convertir nombre, apellido y provincia a mayúsculas"
   ]
  },
  {
   "cell_type": "code",
   "execution_count": 61,
   "id": "293522ac",
   "metadata": {},
   "outputs": [
    {
     "data": {
      "text/html": [
       "<div>\n",
       "<style scoped>\n",
       "    .dataframe tbody tr th:only-of-type {\n",
       "        vertical-align: middle;\n",
       "    }\n",
       "\n",
       "    .dataframe tbody tr th {\n",
       "        vertical-align: top;\n",
       "    }\n",
       "\n",
       "    .dataframe thead th {\n",
       "        text-align: right;\n",
       "    }\n",
       "</style>\n",
       "<table border=\"1\" class=\"dataframe\">\n",
       "  <thead>\n",
       "    <tr style=\"text-align: right;\">\n",
       "      <th></th>\n",
       "      <th>nombre</th>\n",
       "      <th>apellido</th>\n",
       "      <th>dni</th>\n",
       "      <th>provincia</th>\n",
       "      <th>voto</th>\n",
       "      <th>fecha_votacion</th>\n",
       "    </tr>\n",
       "  </thead>\n",
       "  <tbody>\n",
       "    <tr>\n",
       "      <th>0</th>\n",
       "      <td>Pánfilo</td>\n",
       "      <td>Pombo</td>\n",
       "      <td>34787190.0</td>\n",
       "      <td>Buenos Aires</td>\n",
       "      <td>nulo</td>\n",
       "      <td>2024-11-22</td>\n",
       "    </tr>\n",
       "    <tr>\n",
       "      <th>1</th>\n",
       "      <td>Albina</td>\n",
       "      <td>Heredia</td>\n",
       "      <td>48336819.0</td>\n",
       "      <td>Santa Fe</td>\n",
       "      <td>nulo</td>\n",
       "      <td>2024-04-24</td>\n",
       "    </tr>\n",
       "    <tr>\n",
       "      <th>2</th>\n",
       "      <td>Desconocido</td>\n",
       "      <td>Solano</td>\n",
       "      <td>49179364.0</td>\n",
       "      <td>Neuquen</td>\n",
       "      <td>nulo</td>\n",
       "      <td>2024-05-20</td>\n",
       "    </tr>\n",
       "    <tr>\n",
       "      <th>7</th>\n",
       "      <td>Brígida</td>\n",
       "      <td>Angulo</td>\n",
       "      <td>22169546.0</td>\n",
       "      <td>Chaco</td>\n",
       "      <td>no</td>\n",
       "      <td>2024-05-02</td>\n",
       "    </tr>\n",
       "    <tr>\n",
       "      <th>10</th>\n",
       "      <td>Verónica</td>\n",
       "      <td>Posada</td>\n",
       "      <td>35293135.0</td>\n",
       "      <td>Santa Fe</td>\n",
       "      <td>no</td>\n",
       "      <td>2024-09-15</td>\n",
       "    </tr>\n",
       "  </tbody>\n",
       "</table>\n",
       "</div>"
      ],
      "text/plain": [
       "         nombre apellido         dni     provincia  voto fecha_votacion\n",
       "0       Pánfilo    Pombo  34787190.0  Buenos Aires  nulo     2024-11-22\n",
       "1        Albina  Heredia  48336819.0      Santa Fe  nulo     2024-04-24\n",
       "2   Desconocido   Solano  49179364.0       Neuquen  nulo     2024-05-20\n",
       "7       Brígida   Angulo  22169546.0         Chaco    no     2024-05-02\n",
       "10     Verónica   Posada  35293135.0      Santa Fe    no     2024-09-15"
      ]
     },
     "execution_count": 61,
     "metadata": {},
     "output_type": "execute_result"
    }
   ],
   "source": [
    "df[\"nombre\"] = df[\"nombre\"].str.title()\n",
    "df[\"apellido\"] = df[\"apellido\"].str.title()\n",
    "df[\"provincia\"] = df[\"provincia\"].str.title()\n",
    "df.head()"
   ]
  },
  {
   "cell_type": "markdown",
   "id": "64566a64",
   "metadata": {},
   "source": [
    "mayúsculas a cada fila en la columna voto"
   ]
  },
  {
   "cell_type": "code",
   "execution_count": 62,
   "id": "0486bf15",
   "metadata": {},
   "outputs": [
    {
     "data": {
      "text/html": [
       "<div>\n",
       "<style scoped>\n",
       "    .dataframe tbody tr th:only-of-type {\n",
       "        vertical-align: middle;\n",
       "    }\n",
       "\n",
       "    .dataframe tbody tr th {\n",
       "        vertical-align: top;\n",
       "    }\n",
       "\n",
       "    .dataframe thead th {\n",
       "        text-align: right;\n",
       "    }\n",
       "</style>\n",
       "<table border=\"1\" class=\"dataframe\">\n",
       "  <thead>\n",
       "    <tr style=\"text-align: right;\">\n",
       "      <th></th>\n",
       "      <th>nombre</th>\n",
       "      <th>apellido</th>\n",
       "      <th>dni</th>\n",
       "      <th>provincia</th>\n",
       "      <th>voto</th>\n",
       "      <th>fecha_votacion</th>\n",
       "    </tr>\n",
       "  </thead>\n",
       "  <tbody>\n",
       "    <tr>\n",
       "      <th>0</th>\n",
       "      <td>Pánfilo</td>\n",
       "      <td>Pombo</td>\n",
       "      <td>34787190.0</td>\n",
       "      <td>Buenos Aires</td>\n",
       "      <td>NULO</td>\n",
       "      <td>2024-11-22</td>\n",
       "    </tr>\n",
       "    <tr>\n",
       "      <th>1</th>\n",
       "      <td>Albina</td>\n",
       "      <td>Heredia</td>\n",
       "      <td>48336819.0</td>\n",
       "      <td>Santa Fe</td>\n",
       "      <td>NULO</td>\n",
       "      <td>2024-04-24</td>\n",
       "    </tr>\n",
       "    <tr>\n",
       "      <th>2</th>\n",
       "      <td>Desconocido</td>\n",
       "      <td>Solano</td>\n",
       "      <td>49179364.0</td>\n",
       "      <td>Neuquen</td>\n",
       "      <td>NULO</td>\n",
       "      <td>2024-05-20</td>\n",
       "    </tr>\n",
       "    <tr>\n",
       "      <th>7</th>\n",
       "      <td>Brígida</td>\n",
       "      <td>Angulo</td>\n",
       "      <td>22169546.0</td>\n",
       "      <td>Chaco</td>\n",
       "      <td>NO</td>\n",
       "      <td>2024-05-02</td>\n",
       "    </tr>\n",
       "    <tr>\n",
       "      <th>10</th>\n",
       "      <td>Verónica</td>\n",
       "      <td>Posada</td>\n",
       "      <td>35293135.0</td>\n",
       "      <td>Santa Fe</td>\n",
       "      <td>NO</td>\n",
       "      <td>2024-09-15</td>\n",
       "    </tr>\n",
       "  </tbody>\n",
       "</table>\n",
       "</div>"
      ],
      "text/plain": [
       "         nombre apellido         dni     provincia  voto fecha_votacion\n",
       "0       Pánfilo    Pombo  34787190.0  Buenos Aires  NULO     2024-11-22\n",
       "1        Albina  Heredia  48336819.0      Santa Fe  NULO     2024-04-24\n",
       "2   Desconocido   Solano  49179364.0       Neuquen  NULO     2024-05-20\n",
       "7       Brígida   Angulo  22169546.0         Chaco    NO     2024-05-02\n",
       "10     Verónica   Posada  35293135.0      Santa Fe    NO     2024-09-15"
      ]
     },
     "execution_count": 62,
     "metadata": {},
     "output_type": "execute_result"
    }
   ],
   "source": [
    "df[\"voto\"] = df[\"voto\"].str.upper()\n",
    "df.head()"
   ]
  },
  {
   "cell_type": "markdown",
   "id": "25f29802",
   "metadata": {},
   "source": [
    "convertir la columna dni a int"
   ]
  },
  {
   "cell_type": "code",
   "execution_count": 63,
   "id": "8739bcfc",
   "metadata": {},
   "outputs": [],
   "source": [
    "df[\"dni\"] = df[\"dni\"].astype(int)"
   ]
  },
  {
   "cell_type": "markdown",
   "id": "0b5d9077",
   "metadata": {},
   "source": [
    "### 4. Obtención de Estadísticas Descriptivas\n"
   ]
  },
  {
   "cell_type": "markdown",
   "id": "abf4b894",
   "metadata": {},
   "source": [
    "Estadíticas descriptivas generales"
   ]
  },
  {
   "cell_type": "code",
   "execution_count": 64,
   "id": "356ca8bb",
   "metadata": {},
   "outputs": [
    {
     "data": {
      "text/html": [
       "<div>\n",
       "<style scoped>\n",
       "    .dataframe tbody tr th:only-of-type {\n",
       "        vertical-align: middle;\n",
       "    }\n",
       "\n",
       "    .dataframe tbody tr th {\n",
       "        vertical-align: top;\n",
       "    }\n",
       "\n",
       "    .dataframe thead th {\n",
       "        text-align: right;\n",
       "    }\n",
       "</style>\n",
       "<table border=\"1\" class=\"dataframe\">\n",
       "  <thead>\n",
       "    <tr style=\"text-align: right;\">\n",
       "      <th></th>\n",
       "      <th>dni</th>\n",
       "      <th>fecha_votacion</th>\n",
       "    </tr>\n",
       "  </thead>\n",
       "  <tbody>\n",
       "    <tr>\n",
       "      <th>count</th>\n",
       "      <td>3.800000e+01</td>\n",
       "      <td>38</td>\n",
       "    </tr>\n",
       "    <tr>\n",
       "      <th>mean</th>\n",
       "      <td>3.636498e+07</td>\n",
       "      <td>2024-02-29 22:44:12.631578880</td>\n",
       "    </tr>\n",
       "    <tr>\n",
       "      <th>min</th>\n",
       "      <td>1.122334e+07</td>\n",
       "      <td>2023-05-13 00:00:00</td>\n",
       "    </tr>\n",
       "    <tr>\n",
       "      <th>25%</th>\n",
       "      <td>2.180261e+07</td>\n",
       "      <td>2023-09-27 06:00:00</td>\n",
       "    </tr>\n",
       "    <tr>\n",
       "      <th>50%</th>\n",
       "      <td>3.245238e+07</td>\n",
       "      <td>2023-10-13 12:00:00</td>\n",
       "    </tr>\n",
       "    <tr>\n",
       "      <th>75%</th>\n",
       "      <td>4.739178e+07</td>\n",
       "      <td>2024-07-03 06:00:00</td>\n",
       "    </tr>\n",
       "    <tr>\n",
       "      <th>max</th>\n",
       "      <td>9.900112e+07</td>\n",
       "      <td>2025-04-26 00:00:00</td>\n",
       "    </tr>\n",
       "    <tr>\n",
       "      <th>std</th>\n",
       "      <td>2.264981e+07</td>\n",
       "      <td>NaN</td>\n",
       "    </tr>\n",
       "  </tbody>\n",
       "</table>\n",
       "</div>"
      ],
      "text/plain": [
       "                dni                 fecha_votacion\n",
       "count  3.800000e+01                             38\n",
       "mean   3.636498e+07  2024-02-29 22:44:12.631578880\n",
       "min    1.122334e+07            2023-05-13 00:00:00\n",
       "25%    2.180261e+07            2023-09-27 06:00:00\n",
       "50%    3.245238e+07            2023-10-13 12:00:00\n",
       "75%    4.739178e+07            2024-07-03 06:00:00\n",
       "max    9.900112e+07            2025-04-26 00:00:00\n",
       "std    2.264981e+07                            NaN"
      ]
     },
     "execution_count": 64,
     "metadata": {},
     "output_type": "execute_result"
    }
   ],
   "source": [
    "df.describe()"
   ]
  },
  {
   "cell_type": "markdown",
   "id": "529a0ef3",
   "metadata": {},
   "source": [
    "Agrupar por provincia, voto y calcular estadisticas descriptivas del dni"
   ]
  },
  {
   "cell_type": "code",
   "execution_count": 66,
   "id": "32685a84",
   "metadata": {},
   "outputs": [
    {
     "name": "stdout",
     "output_type": "stream",
     "text": [
      "                   count          mean           std         min          25%  \\\n",
      "provincia    voto                                                               \n",
      "Buenos Aires NO      2.0  1.828070e+07  7.267898e+06  13141516.0  15711106.00   \n",
      "             NULO    1.0  3.478719e+07           NaN  34787190.0  34787190.00   \n",
      "Chaco        NO      2.0  2.694060e+07  6.747296e+06  22169546.0  24555075.25   \n",
      "             NULO    2.0  5.537842e+07  4.765634e+07  21680295.0  38529356.75   \n",
      "Cordoba      NULO    1.0  7.897898e+07           NaN  78978978.0  78978978.00   \n",
      "             SÍ      2.0  2.918974e+07  5.661598e+06  25186385.0  27188062.00   \n",
      "Corrientes   NULO    1.0  4.431898e+07           NaN  44318980.0  44318980.00   \n",
      "             SÍ      2.0  2.342278e+07  1.381731e+07  13652459.0  18537617.50   \n",
      "Formosa      NULO    2.0  6.653170e+07  4.591869e+07  34062282.0  50296992.00   \n",
      "             SÍ      1.0  2.233446e+07           NaN  22334455.0  22334455.00   \n",
      "Mendoza      NO      1.0  1.122334e+07           NaN  11223344.0  11223344.00   \n",
      "             NULO    1.0  1.915844e+07           NaN  19158442.0  19158442.00   \n",
      "Misiones     NULO    1.0  1.516172e+07           NaN  15161718.0  15161718.00   \n",
      "Neuquen      NO      1.0  2.909752e+07           NaN  29097522.0  29097522.00   \n",
      "             NULO    2.0  3.034656e+07  2.663360e+07  11513766.0  20930165.50   \n",
      "             SÍ      1.0  1.847280e+07           NaN  18472805.0  18472805.00   \n",
      "Salta        NO      1.0  4.455668e+07           NaN  44556677.0  44556677.00   \n",
      "             NULO    2.0  6.966450e+07  2.893334e+07  49205539.0  59435018.25   \n",
      "             SÍ      1.0  3.452199e+07           NaN  34521987.0  34521987.00   \n",
      "Santa Fe     NO      4.0  3.717494e+07  1.403604e+07  23456789.0  30759017.00   \n",
      "             NULO    1.0  4.833682e+07           NaN  48336819.0  48336819.00   \n",
      "Tucuman      NO      2.0  4.038970e+07  2.312736e+07  24036189.0  32212946.50   \n",
      "             NULO    1.0  5.678901e+07           NaN  56789012.0  56789012.00   \n",
      "             SÍ      3.0  1.838074e+07  4.453403e+06  14649451.0  15915685.50   \n",
      "\n",
      "                          50%          75%         max  \n",
      "provincia    voto                                       \n",
      "Buenos Aires NO    18280696.0  20850286.00  23419876.0  \n",
      "             NULO  34787190.0  34787190.00  34787190.0  \n",
      "Chaco        NO    26940604.5  29326133.75  31711663.0  \n",
      "             NULO  55378418.5  72227480.25  89076542.0  \n",
      "Cordoba      NULO  78978978.0  78978978.00  78978978.0  \n",
      "             SÍ    29189739.0  31191416.00  33193093.0  \n",
      "Corrientes   NULO  44318980.0  44318980.00  44318980.0  \n",
      "             SÍ    23422776.0  28307934.50  33193093.0  \n",
      "Formosa      NULO  66531702.0  82766412.00  99001122.0  \n",
      "             SÍ    22334455.0  22334455.00  22334455.0  \n",
      "Mendoza      NO    11223344.0  11223344.00  11223344.0  \n",
      "             NULO  19158442.0  19158442.00  19158442.0  \n",
      "Misiones     NULO  15161718.0  15161718.00  15161718.0  \n",
      "Neuquen      NO    29097522.0  29097522.00  29097522.0  \n",
      "             NULO  30346565.0  39762964.50  49179364.0  \n",
      "             SÍ    18472805.0  18472805.00  18472805.0  \n",
      "Salta        NO    44556677.0  44556677.00  44556677.0  \n",
      "             NULO  69664497.5  79893976.75  90123456.0  \n",
      "             SÍ    34521987.0  34521987.00  34521987.0  \n",
      "Santa Fe     NO    34243114.0  40659040.25  56756756.0  \n",
      "             NULO  48336819.0  48336819.00  48336819.0  \n",
      "Tucuman      NO    40389704.0  48566461.50  56743219.0  \n",
      "             NULO  56789012.0  56789012.00  56789012.0  \n",
      "             SÍ    17181920.0  20246381.00  23310842.0  \n"
     ]
    }
   ],
   "source": [
    "estadisticas_grupo = df.groupby([\"provincia\",\"voto\"])[\"dni\"].describe()\n",
    "print(estadisticas_grupo)"
   ]
  },
  {
   "cell_type": "markdown",
   "id": "c197fa0d",
   "metadata": {},
   "source": [
    "### 5. Visualización de los Datos con Matplotlib\n"
   ]
  },
  {
   "cell_type": "code",
   "execution_count": 67,
   "id": "05866a87",
   "metadata": {},
   "outputs": [],
   "source": [
    "votos_por_tipo = df[\"voto\"].value_counts()"
   ]
  },
  {
   "cell_type": "code",
   "execution_count": 69,
   "id": "34992241",
   "metadata": {},
   "outputs": [
    {
     "data": {
      "image/png": "[encoded data removed]",
      "text/plain": [
       "<Figure size 800x600 with 1 Axes>"
      ]
     },
     "metadata": {},
     "output_type": "display_data"
    }
   ],
   "source": [
    "plt.figure(figsize=(8,6))\n",
    "votos_por_tipo.plot(kind=\"bar\", color=\"skyblue\", edgecolor=\"black\")\n",
    "plt.title(\"cantidad de votos por tipo\",fontsize= 16)\n",
    "plt.xlabel(\"tipo de voto\",fontsize=12)\n",
    "plt.ylabel(\"cantidad\",fontsize=12)\n",
    "plt.xticks(rotation=45)\n",
    "plt.grid(axis=\"y\",linestyle=\"--\", alpha =0.7)\n",
    "plt.tight_layout()\n",
    "plt.show()"
   ]
  }
 ],
 "metadata": {
  "kernelspec": {
   "display_name": "venv",
   "language": "python",
   "name": "python3"
  },
  "language_info": {
   "codemirror_mode": {
    "name": "ipython",
    "version": 3
   },
   "file_extension": ".py",
   "mimetype": "text/x-python",
   "name": "python",
   "nbconvert_exporter": "python",
   "pygments_lexer": "ipython3",
   "version": "3.13.2"
  }
 },
 "nbformat": 4,
 "nbformat_minor": 5
}
